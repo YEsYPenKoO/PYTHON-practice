{
  "nbformat": 4,
  "nbformat_minor": 2,
  "metadata": {
    "colab": {
      "name": "Practice_4.ipynb",
      "provenance": [],
      "collapsed_sections": [
        "193Kzrii8JCG",
        "czcyeM09TwN7"
      ]
    },
    "kernelspec": {
      "name": "python3",
      "display_name": "Python 3.9.7 64-bit"
    },
    "language_info": {
      "name": "python",
      "version": "3.9.7",
      "mimetype": "text/x-python",
      "codemirror_mode": {
        "name": "ipython",
        "version": 3
      },
      "pygments_lexer": "ipython3",
      "nbconvert_exporter": "python",
      "file_extension": ".py"
    },
    "interpreter": {
      "hash": "fe06f96167c4fc64a78c238d993189072a4e72b444216e36203d6f96126eaf0a"
    }
  },
  "cells": [
    {
      "cell_type": "markdown",
      "source": [
        "# **Курс \"Програмування на мові Python\"**"
      ],
      "metadata": {
        "id": "FMqboNwO4rVs"
      }
    },
    {
      "cell_type": "markdown",
      "source": [
        "## **Практичне зайняття №5**\n",
        "### Тема: \"Цикли. Робота зі списками\""
      ],
      "metadata": {
        "id": "A2T6MigL5Z06"
      }
    },
    {
      "cell_type": "markdown",
      "source": [
        "### **1. Цикли**"
      ],
      "metadata": {
        "id": "193Kzrii8JCG"
      }
    },
    {
      "cell_type": "markdown",
      "source": [
        "**Цикли** використовуються для багаторазового виконання набору інструкцій.\n",
        "\n",
        "У мові програмування Python цикли бувають двох типів: цикли while та цикли for."
      ],
      "metadata": {
        "id": "POV5boU88PaK"
      }
    },
    {
      "cell_type": "markdown",
      "source": [
        "**Цикл while** використовується для повторення виконання однієї та більше інструкцій, поки умова повертає значення True.\n",
        "\n",
        "У мові програмування Python цикл while має форму:\n",
        "\n",
        "```\n",
        "while <умова циклу, що повертає True>:\n",
        "    інструкції\n",
        "```\n",
        "\n",
        "Зверніть увагу на те, що перевірка виконання умови циклу відбувається *перед* кожною ітерацією, включаючи першу ітерацію. Тобто якщо умова не виконується на першій ітерації циклу, блок інструкцій не буде виконаний жодного разу.\n",
        "\n",
        "Приклад використання циклу while:"
      ],
      "metadata": {
        "id": "yfQoYgT4LTa7"
      }
    },
    {
      "cell_type": "code",
      "execution_count": 6,
      "source": [
        "count = 0\r\n",
        "print('Starting')\r\n",
        "while count < 10:\r\n",
        "    print(count, ' ', end='') # part of the while loop\r\n",
        "    count += 1 # also part of the while loop\r\n",
        "print() # not part of the while loop\r\n",
        "print('Done')"
      ],
      "outputs": [
        {
          "output_type": "stream",
          "name": "stdout",
          "text": [
            "Starting\n",
            "0  1  2  3  4  5  6  7  8  9  \n",
            "Done\n"
          ]
        }
      ],
      "metadata": {
        "id": "IkkpdkIMMKye"
      }
    },
    {
      "cell_type": "markdown",
      "source": [
        "Зверніть увагу на те, що змінна count ініціалізується перед циклом. Це особливість циклу while, яка зумовлена необхідністю використовувати цю змінну вже на першій ітерації циклу."
      ],
      "metadata": {
        "id": "cCaQi2eRR8oE"
      }
    },
    {
      "cell_type": "markdown",
      "source": [
        "**Цикл for** використовується в тих випадках, коли ми точно знаємо, скільки разів хочемо виконати певні інструкції. Хоча цикл while також може бути використаний для таких ситуацій, набагато легше це робиться за допомогою циклу for.\r\n",
        "\r\n",
        "У мові програмування Python цикл for має вигляд:\r\n",
        "\r\n",
        "```\r\n",
        "# for <назва змінної> in range(...):\r\n",
        "    інструкції\r\n",
        "```\r\n",
        "\r\n",
        "Функція range (з англ. - діапазон) генерує значення в заданому діапазоні, які використовуються в циклі for.\r\n",
        "\r\n",
        "У Python цикли дуже гнучкі і можуть перебирати значення не тільки в діапазоні цілих чисел, але і в наборі значень, що містяться в певних структурах даних, таких як список цілих чисел або список значень рядкового типу.\r\n",
        "\r\n",
        "Приклад використання циклу for:"
      ],
      "metadata": {
        "id": "rKA_u7ZBS5U8"
      }
    },
    {
      "cell_type": "code",
      "execution_count": 4,
      "source": [
        "print('Print out values in a range')\r\n",
        "for i in range(0, 10):\r\n",
        "    print(i, ' ', end='')\r\n",
        "print()\r\n",
        "print('Done')"
      ],
      "outputs": [
        {
          "output_type": "stream",
          "name": "stdout",
          "text": [
            "Print out values in a range\n",
            "0  1  2  3  4  5  6  7  8  9  \n",
            "Done\n"
          ]
        }
      ],
      "metadata": {
        "id": "Ssde2btD8LGU"
      }
    },
    {
      "cell_type": "markdown",
      "source": [
        "Наведений код робить те ж саме, що і код з прикладу для циклу while. Але:\n",
        "\n",
        "1. код більш стислий;\n",
        "\n",
        "2. зрозуміло, що ми працюємо зі значеннями на інтервалі від 0 до 9 (зверніть увагу, що останнє значення діапазону не використовується);\n",
        "\n",
        "3. нам не потрібно заздалегідь визначати змінну циклу."
      ],
      "metadata": {
        "id": "nFrc_WikZF0H"
      }
    },
    {
      "cell_type": "markdown",
      "source": [
        "За замовчуванням значення змінної i збільшується на 1. Але функція range дає можливіть змінювати крок для ітератора. Розмір кроку можна ввести третім аргументом цієї функції. Наприклад:"
      ],
      "metadata": {
        "id": "jjpcbwVvoXi2"
      }
    },
    {
      "cell_type": "code",
      "execution_count": 7,
      "source": [
        "print('Print out values in a range with an increment of 2')\r\n",
        "for i in range(0, 10, 2):\r\n",
        "    print(i, ' ', end='')\r\n",
        "print()\r\n",
        "print('Done')"
      ],
      "outputs": [
        {
          "output_type": "stream",
          "name": "stdout",
          "text": [
            "Print out values in a range with an increment of 2\n",
            "0  2  4  6  8  \n",
            "Done\n"
          ]
        }
      ],
      "metadata": {
        "id": "04HeC-I2pOgw"
      }
    },
    {
      "cell_type": "markdown",
      "source": [
        "**Інструкція break** використовується для переривання циклу (використовується і в циклі while, і в циклі for).\n",
        "\n",
        "Зазвичай інструкція break розміщується під інструкцією if. Це дозволяє переривати цикл лише у разі виконання певної умови.\n",
        "\n",
        "Приклад використання інструкції break:"
      ],
      "metadata": {
        "id": "TlRL_ZJbca3g"
      }
    },
    {
      "cell_type": "code",
      "execution_count": null,
      "source": [
        "num = int(input('Enter a number to check for: '))\r\n",
        "for i in range(0, 6):\r\n",
        "    if i == num:\r\n",
        "        break\r\n",
        "    print(i, ' ', end='')\r\n",
        "print()\r\n",
        "print('Done')"
      ],
      "outputs": [],
      "metadata": {
        "id": "2er-UNrcbmEU"
      }
    },
    {
      "cell_type": "markdown",
      "source": [
        "**Інструкція continue** використовується для переривання поточної ітерації циклу (також використовується і в циклі while, і в циклі for).\n",
        "\n",
        "Інструкцію continue так само прийнято розміщувати під інструкцією if.\n",
        "\n",
        "Приклад використання інструкції continue:"
      ],
      "metadata": {
        "id": "j68uQGDBagzn"
      }
    },
    {
      "cell_type": "code",
      "execution_count": null,
      "source": [
        "for i in range(0, 10):\r\n",
        "    if i % 2 == 1:\r\n",
        "        continue\r\n",
        "    print(i, end=' ')\r\n",
        "    print('This is even number')\r\n",
        "print('Done')"
      ],
      "outputs": [],
      "metadata": {
        "id": "cC4d_YOu8LL9"
      }
    },
    {
      "cell_type": "markdown",
      "source": [
        "У циклі for за потреби може використовуватись **частина else**. Вона активується тоді і тільки тоді, коли всі ітерації циклу виконуються без помилок та переривань.\n",
        "\n",
        "Приклад використання частини else:"
      ],
      "metadata": {
        "id": "RzPeclwCl2dv"
      }
    },
    {
      "cell_type": "code",
      "execution_count": null,
      "source": [
        "print('Only print code if all iterations completed')\r\n",
        "num = int(input('Enter a number to check for: '))\r\n",
        "for i in range(0, 6):\r\n",
        "    if i == num:\r\n",
        "        break\r\n",
        "    print(i, ' ', end='')\r\n",
        "else:\r\n",
        "    print()\r\n",
        "    print('All iterations successful')"
      ],
      "outputs": [],
      "metadata": {
        "id": "bXQxzy6Z8LPI"
      }
    },
    {
      "cell_type": "markdown",
      "source": [
        "### **2. Робота зі списками**"
      ],
      "metadata": {
        "id": "czcyeM09TwN7"
      }
    },
    {
      "cell_type": "markdown",
      "source": [
        "**Список** - це впрорядкована змінювана колекція об'єктів довільних типів.\n",
        "\n",
        "Список створюється у квадратних дужках, що розташовані перед та після елементів, з яких складається цей список. Наприклад:"
      ],
      "metadata": {
        "id": "7R-Mc0U1zz1B"
      }
    },
    {
      "cell_type": "code",
      "execution_count": null,
      "source": [
        "list1 = ['John', 'Paul', 'George', 'Ringo']"
      ],
      "outputs": [],
      "metadata": {
        "id": "tppXHBPWzz1C"
      }
    },
    {
      "cell_type": "markdown",
      "source": [
        "Списки індексуються, починаючи з нуля. Тому елемент 'John' списку list1 має індекс 0, елемент 'Paul' - індекс 1, елемент 'George' - індекс 2, елемент 'Ringo' - індекс 3.\n",
        "\n",
        "Списки можуть бути вкладеними. Квадратні дужки всередині інших квадратних дужок вказують на вкладений список. Наприклад:\n"
      ],
      "metadata": {
        "id": "4yfJ28Hg201_"
      }
    },
    {
      "cell_type": "code",
      "execution_count": null,
      "source": [
        "list1 = [1, 43.5, 'Person', True]\r\n",
        "list2 = ['apple', 'orange', 31]\r\n",
        "root_list = ['John', list1, list2, 'Denise']\r\n",
        "print(root_list)"
      ],
      "outputs": [],
      "metadata": {
        "id": "OiCY2Jyg30i9"
      }
    },
    {
      "cell_type": "markdown",
      "source": [
        "Створити список можна кількома способами. \n",
        "\n",
        "**Спосіб №1.** \n",
        "\n",
        "Створення списку безпосередньо у квадратних дужках (як показано вище). Зверніть увагу, що список може бути порожнім. Наприклад:"
      ],
      "metadata": {
        "id": "sWuh8vZk42gb"
      }
    },
    {
      "cell_type": "code",
      "execution_count": null,
      "source": [
        "list1 = []\r\n",
        "print(list1)"
      ],
      "outputs": [],
      "metadata": {
        "id": "uXoEQC4k58ph"
      }
    },
    {
      "cell_type": "markdown",
      "source": [
        "**Спосіб №2.**\n",
        "\n",
        "Можна створити список, обробивши будь-який об'єкт, що може повертати елементи по одному (об'єкт, що ітерується), за допомогою вбудованої функції list(). Спробуємо обробити рядок 'list'."
      ],
      "metadata": {
        "id": "WmaF8GAy7R1k"
      }
    },
    {
      "cell_type": "code",
      "execution_count": null,
      "source": [
        "new_list = list('list')\r\n",
        "print(new_list)"
      ],
      "outputs": [],
      "metadata": {
        "id": "diWjVFAP6T9g"
      }
    },
    {
      "cell_type": "markdown",
      "source": [
        "**Спосіб №3.**\n",
        "\n",
        "Ще один спосіб створення списків - використання генератора списків. Генератор списків - це спосіб побудувати новий список, застосовуючи вираз до кожного елементу послідовності. \n",
        "\n",
        "Генератор списків дуже схожий на цикл for. Наприклад:"
      ],
      "metadata": {
        "id": "vGwTIYQh7zIo"
      }
    },
    {
      "cell_type": "code",
      "execution_count": 34,
      "source": [
        "c = [a * 3 for a in 'list']\r\n",
        "print(c)"
      ],
      "outputs": [
        {
          "output_type": "stream",
          "name": "stdout",
          "text": [
            "['lll', 'iii', 'sss', 'ttt']\n"
          ]
        }
      ],
      "metadata": {
        "id": "rKC6MEfY6OlO",
        "outputId": "bba06758-9286-40e9-f747-daf68180c6f1",
        "colab": {
          "base_uri": "https://localhost:8080/",
          "height": 34
        }
      }
    },
    {
      "cell_type": "markdown",
      "source": [
        "Ще один приклад:"
      ],
      "metadata": {
        "id": "7KVpugFgt5fK"
      }
    },
    {
      "cell_type": "code",
      "execution_count": 35,
      "source": [
        "c = [a * 3 for a in 'list' if a != 'i']\r\n",
        "print(c)"
      ],
      "outputs": [
        {
          "output_type": "stream",
          "name": "stdout",
          "text": [
            "['lll', 'sss', 'ttt']\n"
          ]
        }
      ],
      "metadata": {
        "id": "OwQU8pgEtWrZ",
        "outputId": "6494400f-2557-4409-f67f-6f0323bafc0b",
        "colab": {
          "base_uri": "https://localhost:8080/",
          "height": 34
        }
      }
    },
    {
      "cell_type": "markdown",
      "source": [
        "Доступ до елементів зі списку можна отримати за допомогою індекса (у квадратних дужках). Індекс повертає об'єкт, розташований на відповідній позиції. Наприклад:"
      ],
      "metadata": {
        "id": "ols9Wda7vLOJ"
      }
    },
    {
      "cell_type": "code",
      "execution_count": null,
      "source": [
        "list1 = ['John', 'Paul', 'George', 'Ringo']\r\n",
        "print(list1[1])"
      ],
      "outputs": [],
      "metadata": {
        "id": "jdgPI7BPvGp8"
      }
    },
    {
      "cell_type": "markdown",
      "source": [
        "Якщо список містить вкладені списки, звертатися до елементів вкладених списків можна, використовуючи два індекси: перший вказуватиме на елемент основного списку, другий - на елемент вкладеного списку. Наприклад:"
      ],
      "metadata": {
        "id": "xV9QbvAh6ql9"
      }
    },
    {
      "cell_type": "code",
      "execution_count": null,
      "source": [
        "list1 = [1, 43.5, 'Person', True]\r\n",
        "list2 = ['apple', 'orange', 31]\r\n",
        "root_list = ['John', list1, list2, 'Denise']\r\n",
        "print(root_list)\r\n",
        "print(root_list[2][1])"
      ],
      "outputs": [],
      "metadata": {
        "id": "85TBtWb37h-x"
      }
    },
    {
      "cell_type": "markdown",
      "source": [
        "Індекс з від'ємним значенням вказуватиме на елемент списку, відрахований з кінця. Тобто індекс -1 поверне останній елемент списку, -2 - передостанній тощо."
      ],
      "metadata": {
        "id": "7eK-3nQh7fo_"
      }
    },
    {
      "cell_type": "code",
      "execution_count": null,
      "source": [
        "list1 = ['John', 'Paul', 'George', 'Ringo']\r\n",
        "print(list1[-1])"
      ],
      "outputs": [],
      "metadata": {
        "id": "Q8_wyZWw5tHg"
      }
    },
    {
      "cell_type": "markdown",
      "source": [
        "Також можна отримати **зріз** (slice) списку. Для цього у квадратних дужках задаються початковий та кінцевий індекс, розділені двокрапкою. Якщо один з двох індексів відсутній, це означає, що зріз починається з першого елемента або закінчується останнім елементом списку. Наприклад:"
      ],
      "metadata": {
        "id": "VecLujPj9Dza"
      }
    },
    {
      "cell_type": "code",
      "execution_count": 3,
      "source": [
        "list1 = ['John', 'Paul', 'George', 'Ringo']\r\n",
        "print('list1[1]:', list1[1])\r\n",
        "print('list1[-1]:', list1[-1])\r\n",
        "print('list1[1:3]:', list1[1:3])\r\n",
        "print('list[:3]:', list1[:3])\r\n",
        "print('list[1:]:', list1[1:])"
      ],
      "outputs": [
        {
          "output_type": "stream",
          "name": "stdout",
          "text": [
            "list1[1]: Paul\n",
            "list1[-1]: Ringo\n",
            "list1[1:3]: ['Paul', 'George']\n",
            "list[:3]: ['John', 'Paul', 'George']\n",
            "list[1:]: ['Paul', 'George', 'Ringo']\n"
          ]
        }
      ],
      "metadata": {
        "id": "A0CsklCX-t8U"
      }
    },
    {
      "cell_type": "markdown",
      "source": [
        "Додавання елементу в кінець списку відбувається за допомогою методу append(). Він має такий синтаксис:\n",
        "\n",
        "```\n",
        "<список>.append(<об'єкт>)\n",
        "```\n",
        "\n",
        "Приклад:"
      ],
      "metadata": {
        "id": "hdmle7Ac_gfe"
      }
    },
    {
      "cell_type": "code",
      "execution_count": null,
      "source": [
        "list1 = ['John', 'Paul', 'George', 'Ringo']\r\n",
        "list1.append('Pete')\r\n",
        "print(list1)"
      ],
      "outputs": [],
      "metadata": {
        "id": "jHSuTp2v9A7G"
      }
    },
    {
      "cell_type": "markdown",
      "source": [
        "Щоб додати 2 і більше елементів в кінець списку, використовується метод extend() або оператор '+=':\n",
        "\n",
        "```\n",
        "<список>.extend([<об'єкт>, <об'єкт>])\n",
        "<список> += [<об'єкт>, <об'єкт>]\n",
        "```\n",
        "\n",
        "Приклад:"
      ],
      "metadata": {
        "id": "rIwkPYqKAVzc"
      }
    },
    {
      "cell_type": "code",
      "execution_count": 2,
      "source": [
        "list1 = ['John', 'Paul', 'George', 'Ringo', 'Pete']\r\n",
        "print(list1)\r\n",
        "list1.extend(['Albert', 'Bob'])\r\n",
        "print(list1)\r\n",
        "list1 += ['Ginger', 'Sporty']\r\n",
        "print(list1)"
      ],
      "outputs": [
        {
          "output_type": "stream",
          "name": "stdout",
          "text": [
            "['John', 'Paul', 'George', 'Ringo', 'Pete']\n",
            "['John', 'Paul', 'George', 'Ringo', 'Pete', 'Albert', 'Bob']\n",
            "['John', 'Paul', 'George', 'Ringo', 'Pete', 'Albert', 'Bob', 'Ginger', 'Sporty']\n"
          ]
        }
      ],
      "metadata": {
        "id": "A-yRegs1Avso"
      }
    },
    {
      "cell_type": "markdown",
      "source": [
        "Щоб додати елемент на певну позицію у списку, використовується метод insert():\n",
        "\n",
        "```\n",
        "<список>.insert([<індекс>, <об'єкт>])\n",
        "```\n",
        "\n",
        "Приклад:"
      ],
      "metadata": {
        "id": "HUaQRHMiBNpw"
      }
    },
    {
      "cell_type": "code",
      "execution_count": null,
      "source": [
        "a_list = ['Adele', 'Madonna', 'Cher']\r\n",
        "print(a_list)\r\n",
        "a_list.insert(1, 'Paloma')\r\n",
        "print(a_list)"
      ],
      "outputs": [],
      "metadata": {
        "id": "OWvWyqhrBrpz"
      }
    },
    {
      "cell_type": "markdown",
      "source": [
        "Конкатенація (об'єднання) двох списків відбувається за допомогою оператора '+':"
      ],
      "metadata": {
        "id": "ghzP38n4Byes"
      }
    },
    {
      "cell_type": "code",
      "execution_count": null,
      "source": [
        "list1 = [3, 2, 1]\r\n",
        "list2 = [6, 5, 4]\r\n",
        "list3 = list1 + list2\r\n",
        "print(list3)"
      ],
      "outputs": [],
      "metadata": {
        "id": "4Uf-ZOiiCPNa"
      }
    },
    {
      "cell_type": "markdown",
      "source": [
        "Щоб видалити елемент зі списку, використовується метод remove().\n",
        "\n",
        "```\n",
        "<список>.remove(<об'єкт>)\n",
        "```"
      ],
      "metadata": {
        "id": "KC8rVZnUCXa2"
      }
    },
    {
      "cell_type": "code",
      "execution_count": null,
      "source": [
        "another_list = ['Gary', 'Mark', 'Robbie', 'Jason', 'Howard']\r\n",
        "print(another_list)\r\n",
        "another_list.remove('Robbie')\r\n",
        "print(another_list)"
      ],
      "outputs": [],
      "metadata": {
        "id": "ch2mqrvLCyGW"
      }
    },
    {
      "cell_type": "markdown",
      "source": [
        "Для видалення елементу або зрізу елементів використовується ключове слово del."
      ],
      "metadata": {
        "id": "B93l2oEgDYw_"
      }
    },
    {
      "cell_type": "code",
      "execution_count": null,
      "source": [
        "my_list = ['A', 'B', 'C', 'D', 'E']\r\n",
        "print(my_list)\r\n",
        "del my_list[2]\r\n",
        "print(my_list)"
      ],
      "outputs": [],
      "metadata": {
        "id": "0dtJSLyUDX9O"
      }
    },
    {
      "cell_type": "markdown",
      "source": [
        "Повний перелік методів, які можна виконувати зі списками, поданий у таблиці.\n",
        "\n",
        "Метод | Опис\n",
        "--- | ---\n",
        "append() | Додає елемент в кінець списку\n",
        "clear() | Видаляє всі елементи зі списку\n",
        "copy() | Повертає копію списку\n",
        "count() | Повертає кількість елементів з певним значенням\n",
        "extend() | Додає елементи списку (чи будь-якого об'єкта, що ітерується) в кінець поточного списку\n",
        "index() | Повертає індекс першого елементу із вказаним значенням\n",
        "insert() | Додає елемент на визначену позицію\n",
        "pop() | Видаляє елемент на визначеній позиції\n",
        "remove() | Видаляє елемент із вказаним значенням\n",
        "reverse() | Змінює порядок елементів у списку на протилежний\n",
        "sort() | Сортує список"
      ],
      "metadata": {
        "id": "-JZ5Lv4mECIM"
      }
    },
    {
      "cell_type": "markdown",
      "source": [
        "Зі списками дуже зручно працювати у циклах. Розглянемо 4 приклади, в яких виводяться елементи списку list1:"
      ],
      "metadata": {
        "id": "dy7TtoM2JZjH"
      }
    },
    {
      "cell_type": "code",
      "execution_count": 5,
      "source": [
        "list1 = [1, 3, 5, 7, 9]\r\n",
        "\r\n",
        "for i in list1: \r\n",
        "    print(i, end=' ')"
      ],
      "outputs": [
        {
          "output_type": "stream",
          "name": "stdout",
          "text": [
            "1 3 5 7 9 "
          ]
        }
      ],
      "metadata": {
        "id": "t-nex1l6KaEU"
      }
    },
    {
      "cell_type": "code",
      "execution_count": 1,
      "source": [
        "list1 = [1, 3, 5, 7, 9] \r\n",
        "length = len(list1) \r\n",
        "\r\n",
        "for i in range(length): \r\n",
        "    print(list1[i], end=' ') "
      ],
      "outputs": [
        {
          "output_type": "stream",
          "name": "stdout",
          "text": [
            "1 3 5 7 9 "
          ]
        }
      ],
      "metadata": {
        "id": "mgc9yVR6KjSU"
      }
    },
    {
      "cell_type": "code",
      "execution_count": null,
      "source": [
        "list1 = [1, 3, 5, 7, 9] \r\n",
        "length = len(list1) \r\n",
        "i = 0\r\n",
        "\r\n",
        "while i < length: \r\n",
        "    print(list1[i], end=' ') \r\n",
        "    i += 1"
      ],
      "outputs": [],
      "metadata": {
        "id": "8T_jCnZqLHhz"
      }
    },
    {
      "cell_type": "code",
      "execution_count": null,
      "source": [
        "list1 = [1, 3, 5, 7, 9] \r\n",
        "\r\n",
        "list2 = [print(i, end=' ') for i in list1]"
      ],
      "outputs": [],
      "metadata": {
        "id": "rOS5Tpa8Ldaa"
      }
    }
  ]
}