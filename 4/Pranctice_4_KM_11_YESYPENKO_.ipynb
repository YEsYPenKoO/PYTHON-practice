{
  "nbformat": 4,
  "nbformat_minor": 2,
  "metadata": {
    "colab": {
      "name": "Pranctice_3_KM-01_<name>.ipynb",
      "provenance": [],
      "collapsed_sections": []
    },
    "kernelspec": {
      "name": "python3",
      "display_name": "Python 3.9.7 64-bit"
    },
    "language_info": {
      "name": "python",
      "version": "3.9.7",
      "mimetype": "text/x-python",
      "codemirror_mode": {
        "name": "ipython",
        "version": 3
      },
      "pygments_lexer": "ipython3",
      "nbconvert_exporter": "python",
      "file_extension": ".py"
    },
    "interpreter": {
      "hash": "fe06f96167c4fc64a78c238d993189072a4e72b444216e36203d6f96126eaf0a"
    }
  },
  "cells": [
    {
      "cell_type": "markdown",
      "source": [
        "# **Курс \"Програмування на мові Python\"**"
      ],
      "metadata": {
        "id": "1bRxWHr5e8kt"
      }
    },
    {
      "cell_type": "markdown",
      "source": [
        "## **Практичне зайняття №3**\n",
        "### Тема: \"Перші програми на Python. Введення та виведення даних. Інструкція if\""
      ],
      "metadata": {
        "id": "buZUwUgFe-kx"
      }
    },
    {
      "cell_type": "markdown",
      "source": [
        "### **Завдання 1 (1,5 бали)**\n",
        "\n"
      ],
      "metadata": {
        "id": "PUkxEn8EfAUe"
      }
    },
    {
      "cell_type": "markdown",
      "source": [
        "**Написати програму введення та виведення даних про одержувача листа (посилки) за стандартами Укрпошти.**\n",
        "\n",
        "1. Усі запити на введення даних повинні супроводжуватись відповідними підказками-поясненнями (бажано англійською мовою).\n",
        "\n",
        "2. Дані мають виводитись так, як показано нижче (з урахуванням кількості рядків та послідовності даних у кожному з них).\n",
        "\n",
        "3. Дані, виділені жирним шрифтом, повинні вводитись із клавіатури. Всього має бути 9 окремих команд введення даних\n",
        "\n",
        "4. Назви змінних повинні бути інформативними та оформленими відповідно до правил іменування змінних\n",
        "\n",
        "5. Додати 2 коментарі, що вказують на блоки введення та виведення даних.\n",
        "\n",
        "***Формат виведення даних:***\n",
        "\n",
        "(1) **Ім'я** (2) **Прізвище**\n",
        "\n",
        "(3) **Номер телефону**\n",
        "\n",
        "Str. (4) **Назва вулиці** (5) **Номер будинку**, ap. (6) **Номер квартири**, (7) **Місто**\n",
        "\n",
        "(8) **Індекс**\n",
        "\n",
        "(9) **Країна**\n",
        "\n",
        "***Приклад виведення:***\n",
        "\n",
        "*Lucas Diallo*\n",
        "\n",
        "*3221234567*\n",
        "\n",
        "*Str. Longue 3, ap. 5, Bruxelles*\n",
        "\n",
        "*1020*\n",
        "\n",
        "*Belgium*"
      ],
      "metadata": {
        "id": "M7jjwxAvfKa2"
      }
    },
    {
      "cell_type": "code",
      "execution_count": 1,
      "source": [
        "# input\r\n",
        "name = str(input((\"Enter your name:  \")))\r\n",
        "surname= str(input((\"Enter your surname: \")))\r\n",
        "number = str(input((\"Enter your phone number:  \")))\r\n",
        "street = str(input((\"Enter the street you live on:  \")))\r\n",
        "building = str(input((\"Enter the number of the building you live in:  \")))\r\n",
        "appartment = str(input((\"Enter the number of your appartment:  \")))\r\n",
        "city = str(input((\"Enter the name of the country you live in:  \")))\r\n",
        "index = str(input((\"Enter your index number:  \")))\r\n",
        "country= str(input((\"Enter the country you live in:  \")))\r\n",
        "\r\n",
        "# output\r\n",
        "print(name,\" \", surname)\r\n",
        "print(number)\r\n",
        "print(\"Str. \", street,\" \", building, \",ap. \", appartment, \" \", city)\r\n",
        "print(index)\r\n",
        "print(country)\r\n"
      ],
      "outputs": [
        {
          "output_type": "stream",
          "name": "stdout",
          "text": [
            "   \n",
            "\n",
            "Str.      ,ap.     \n",
            "\n",
            "\n"
          ]
        }
      ],
      "metadata": {}
    },
    {
      "cell_type": "markdown",
      "source": [
        "### **Завдання 2 (1,5 бали)**"
      ],
      "metadata": {
        "id": "WmnpKrmPf689"
      }
    },
    {
      "cell_type": "markdown",
      "source": [
        "Таблиця містить магнітуду землетрусів за шкалою Ріхтера та дескриптори, що їй відповідають.\n",
        "\n",
        "Магнітуда | Дескриптор\n",
        "--- | ---\n",
        "Менше, ніж 2 | Micro\n",
        "Від 2 до менше ніж 3 | Very minor\n",
        "Від 3 до менше ніж 4 | Minor\n",
        "Від 4 до менше ніж 5 | Light\n",
        "Від 5 до менше ніж 6 | Moderate\n",
        "Від 6 до менше ніж 7 | Strong\n",
        "Від 7 до менше ніж 8 | Major\n",
        "Від 8 до менше ніж 10 | Great\n",
        "10 та більше | Meteoric\n",
        "\n",
        "Напишіть програму, яка буде зчитувати магнітуду, введену користувачем, та виводити відповідний дескриптор як частину змістовного повідомлення. Наприклад, якщо користувач вводить 5.5, ваша програма повинна показати, що землетрус з такою магнітудою є помірним (moderate)."
      ],
      "metadata": {
        "id": "4n4p_pz7gFKM"
      }
    },
    {
      "cell_type": "code",
      "execution_count": 2,
      "source": [
        "mg = float(input(\"Please, enter the magnitude\"))\r\n",
        "\r\n",
        "if mg < 0 :\r\n",
        "    print(\"Magnitude has to be greater than zero\")\r\n",
        "elif 2 > mg > 0 :\r\n",
        "    print(\"Earthquake can be defined as: Micro\")\r\n",
        "elif 3 > mg > 2 :\r\n",
        "    print(\"Earthquake can be defined as: Very minor\")\r\n",
        "elif 4 > mg > 3 :\r\n",
        "    print(\"Earthquake can be defined as: Minor\")\r\n",
        "elif 5 > mg > 4 :\r\n",
        "    print(\"Earthquake can be defined as: Light\")\r\n",
        "elif 6 > mg > 5 :\r\n",
        "    print(\"Earthquake can be defined as: Moderate\")\r\n",
        "elif 7 > mg > 6 :\r\n",
        "    print(\"Earthquake can be defined as: Strong\")\r\n",
        "elif 8 > mg > 7 :\r\n",
        "    print(\"Earthquake can be defined as: Major\")\r\n",
        "elif 10 > mg > 8 :\r\n",
        "    print(\"Earthquake can be defined as: Great\")\r\n",
        "elif mg > 10 :\r\n",
        "    print(\"Earthquake can be defined as: Meteoric\")\r\n",
        "\r\n",
        "\r\n",
        "\r\n",
        "\r\n",
        "\r\n"
      ],
      "outputs": [
        {
          "output_type": "error",
          "ename": "ValueError",
          "evalue": "could not convert string to float: 'g'",
          "traceback": [
            "\u001b[1;31m---------------------------------------------------------------------------\u001b[0m",
            "\u001b[1;31mValueError\u001b[0m                                Traceback (most recent call last)",
            "\u001b[1;32m~\\AppData\\Local\\Temp/ipykernel_18168/877401155.py\u001b[0m in \u001b[0;36m<module>\u001b[1;34m\u001b[0m\n\u001b[1;32m----> 1\u001b[1;33m \u001b[0mmg\u001b[0m \u001b[1;33m=\u001b[0m \u001b[0mfloat\u001b[0m\u001b[1;33m(\u001b[0m\u001b[0minput\u001b[0m\u001b[1;33m(\u001b[0m\u001b[1;34m\"Please, enter the magnitude\"\u001b[0m\u001b[1;33m)\u001b[0m\u001b[1;33m)\u001b[0m\u001b[1;33m\u001b[0m\u001b[1;33m\u001b[0m\u001b[0m\n\u001b[0m\u001b[0;32m      2\u001b[0m \u001b[1;33m\u001b[0m\u001b[0m\n\u001b[0;32m      3\u001b[0m \u001b[1;32mif\u001b[0m \u001b[0mmg\u001b[0m \u001b[1;33m<\u001b[0m \u001b[1;36m0\u001b[0m \u001b[1;33m:\u001b[0m\u001b[1;33m\u001b[0m\u001b[1;33m\u001b[0m\u001b[0m\n\u001b[0;32m      4\u001b[0m     \u001b[0mprint\u001b[0m\u001b[1;33m(\u001b[0m\u001b[1;34m\"Magnitude has to be greater than zero\"\u001b[0m\u001b[1;33m)\u001b[0m\u001b[1;33m\u001b[0m\u001b[1;33m\u001b[0m\u001b[0m\n\u001b[0;32m      5\u001b[0m \u001b[1;32melif\u001b[0m \u001b[1;36m2\u001b[0m \u001b[1;33m>\u001b[0m \u001b[0mmg\u001b[0m \u001b[1;33m>\u001b[0m \u001b[1;36m0\u001b[0m \u001b[1;33m:\u001b[0m\u001b[1;33m\u001b[0m\u001b[1;33m\u001b[0m\u001b[0m\n",
            "\u001b[1;31mValueError\u001b[0m: could not convert string to float: 'g'"
          ]
        }
      ],
      "metadata": {
        "id": "Nv66Jkkpf-sI"
      }
    },
    {
      "cell_type": "markdown",
      "source": [
        "### **Завдання 3 (бонусне, 1 бал)**"
      ],
      "metadata": {
        "id": "X8fC_GM_nMRi"
      }
    },
    {
      "cell_type": "markdown",
      "source": [
        "Часто говорять, що один календарний рік еквівалентний 7 рокам для собаки. Однак таке просте перетворення не враховує того, що собаки досягають повноліття приблизно у 2 роки. Тому деякі люди вважать, що краще рахувати кожен з перших двох календарних років як 10,5 років для собаки, а потім рахувати кожен наступний календарний рік як 4 роки для собаки.\n",
        "\n",
        "Напишіть програму, яка конвертує календарні роки у \"собачі\", як було показано в попередньому абзаці. Переконайтесь, що ваша програма працює правильно, конвертуючи перші два календарні роки та всі подальші. Ваша програма також повинна виводити повідомлення про помилку, якщо користувач введе від'ємне число."
      ],
      "metadata": {
        "id": "b593txPwotgN"
      }
    },
    {
      "cell_type": "code",
      "execution_count": null,
      "source": [
        "\r\n",
        "years = float(input(\"Please enter some age: \"))\r\n",
        "\r\n",
        "if years < 0 :\r\n",
        "    print(\"That can't be true. Try something else.\")\r\n",
        "else:\r\n",
        "    if years <=2:\r\n",
        "        dog_years = 10.5*years\r\n",
        "        print(\" Your dog is \" + str(dog_years) + \" dog years!\")\r\n",
        "    else:\r\n",
        "        dog_years = 21 + (years-2)*4\r\n",
        "        print(\" Your dog is \" + str(dog_years) + \" years old\")\r\n",
        "\r\n"
      ],
      "outputs": [],
      "metadata": {
        "id": "PA_E_H0Zosu0"
      }
    }
  ]
}