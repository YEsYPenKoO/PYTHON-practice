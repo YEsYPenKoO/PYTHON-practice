{
  "nbformat": 4,
  "nbformat_minor": 2,
  "metadata": {
    "colab": {
      "name": "Practice_3.ipynb",
      "provenance": [],
      "collapsed_sections": [
        "czcyeM09TwN7",
        "8kulJOUwaxuF",
        "2vM-TJgJCLcz"
      ]
    },
    "kernelspec": {
      "name": "python3",
      "display_name": "Python 3"
    }
  },
  "cells": [
    {
      "cell_type": "markdown",
      "source": [
        "# **Курс \"Програмування на мові Python\"**"
      ],
      "metadata": {
        "id": "FMqboNwO4rVs"
      }
    },
    {
      "cell_type": "markdown",
      "source": [
        "## **Практичне зайняття №4**\n",
        "### Тема: \"Перші програми на Python. Введення та виведення даних. Інструкція if\""
      ],
      "metadata": {
        "id": "A2T6MigL5Z06"
      }
    },
    {
      "cell_type": "markdown",
      "source": [
        "### **1. Функції введення та виведення даних**"
      ],
      "metadata": {
        "id": "czcyeM09TwN7"
      }
    },
    {
      "cell_type": "markdown",
      "source": [
        "Використання функції виведення даних **print()**:"
      ],
      "metadata": {
        "id": "_3f8_9g_1YXJ"
      }
    },
    {
      "cell_type": "code",
      "execution_count": null,
      "source": [
        "print('Hello, world')"
      ],
      "outputs": [],
      "metadata": {
        "id": "o6tZWJmsxIlY"
      }
    },
    {
      "cell_type": "markdown",
      "source": [
        "Використання функції введення даних **input()**. \n",
        "\n",
        "Зробимо так, щоб програма запитала наше ім'я і привіталась з нами особисто."
      ],
      "metadata": {
        "id": "lYOtleq-7DDt"
      }
    },
    {
      "cell_type": "code",
      "execution_count": null,
      "source": [
        "user_name = input('Enter your name: ')\n",
        "print('Hello,', user_name)"
      ],
      "outputs": [],
      "metadata": {
        "id": "9aEHPF6u7Bz-"
      }
    },
    {
      "cell_type": "markdown",
      "source": [
        "Модифікуємо нашу попередню програму, щоб вона також запитувала в користувача ім'я його найкращого друга та виводила вітальне повідомлення цьому другові.\n",
        "\n",
        "Зверніть увагу на те, що під час роботи коду змінна name перезаписується. Коли виводиться рядок 'Hello, best friend', поряд з ним виводиться останнє введене ім'я, хоча змінна та ж сама."
      ],
      "metadata": {
        "id": "EIrETlpao0pH"
      }
    },
    {
      "cell_type": "code",
      "execution_count": null,
      "source": [
        "name = input('Enter your name: ')\n",
        "print('Hello,', name)\n",
        "name = input('What is the name of your best friend: ')\n",
        "print('Hello, best friend', name)"
      ],
      "outputs": [],
      "metadata": {
        "id": "PVfZ-zeVoz87"
      }
    },
    {
      "cell_type": "markdown",
      "source": [
        "Звичайно, змінні у Python можуть зберігати не тільки рядки, але й числа чи дані логічного типу. Це називається динамічною типізацією. Це означає, що тип даних, який зберігається у змінній, може динамічно змінюватись в процесі роботи програми."
      ],
      "metadata": {
        "id": "e_UKle1-rrAg"
      }
    },
    {
      "cell_type": "code",
      "execution_count": null,
      "source": [
        "my_variable = 'John'\n",
        "print(my_variable)\n",
        "my_variable = 42\n",
        "print(my_variable)\n",
        "my_variable = True\n",
        "print(my_variable)"
      ],
      "outputs": [],
      "metadata": {
        "id": "hm-Kmm1OrrlM"
      }
    },
    {
      "cell_type": "markdown",
      "source": [
        "### **2. Інструкція, вираз, коментар**"
      ],
      "metadata": {
        "id": "8kulJOUwaxuF"
      }
    },
    {
      "cell_type": "markdown",
      "source": [
        "**Оператор присвоювання (*assignment operator*)** - механізм, що дозволяє динамічно змінювати зв'язки об'єктів даних (зазвичай, змінних) з їхніми значеннями.\n",
        "\n",
        "У виразі `user_name = input('Enter your name: ')` оператор присвоювання ('=') *присвоює* значення, яке повертає функція input(), змінній user_name."
      ],
      "metadata": {
        "id": "PchuddL2uIO1"
      }
    },
    {
      "cell_type": "markdown",
      "source": [
        "**Інструкція (*statement*)** - це команда, яку може виконати інтерпретатор мови програмування.\n",
        "\n",
        "*Інструкція* може складатись з одного рядка, або бути розділеною на кілька рядків, якщо це покращуватиме читабельність чи формат виведення коду. Наприклад, в наступному коді подається одна *інструкція*, однак розкладена на 6 рядків коду для покращення читабельності."
      ],
      "metadata": {
        "id": "Uf6FDN_zeC11"
      }
    },
    {
      "cell_type": "code",
      "execution_count": 8,
      "source": [
        "city = input('City name:')\n",
        "number_of_people_in_city = input('Number of people in city:')\n",
        "year = input('Year:')\n",
        "\n",
        "print('The total population for',\n",
        "city, \n",
        "'was', \n",
        "number_of_people_in_city, \n",
        "'in', \n",
        "year)"
      ],
      "outputs": [
        {
          "output_type": "stream",
          "name": "stdout",
          "text": [
            "City name:Kyiv\n",
            "Number of people in city:3000000\n",
            "Year:2020\n"
          ]
        }
      ],
      "metadata": {
        "id": "DoQDyK3dTahS",
        "outputId": "876ba20c-75f8-4b8f-e189-24ed6b740aec",
        "colab": {
          "base_uri": "https://localhost:8080/",
          "height": 68
        }
      }
    },
    {
      "cell_type": "markdown",
      "source": [
        "**Вираз (*expression*)** - це обчислення, яке генерує певне значення. \n",
        "\n",
        "Приклад *виразу*, в якому додаються числа 4 і 5 і генерується значення 9:"
      ],
      "metadata": {
        "id": "MYlmHmUMUVdJ"
      }
    },
    {
      "cell_type": "code",
      "execution_count": null,
      "source": [
        "4 + 5"
      ],
      "outputs": [],
      "metadata": {
        "id": "e2Mr7sdUakR9"
      }
    },
    {
      "cell_type": "markdown",
      "source": [
        "**Коментар (*comment*)** - це частина програми, що ігнорується інтерпретатором мови програмування.\n",
        "\n",
        "У мові Python коментарі позначаються символом '#'."
      ],
      "metadata": {
        "id": "P8DjeRGjZC0y"
      }
    },
    {
      "cell_type": "code",
      "execution_count": null,
      "source": [
        "# This is a comment\n",
        "name = input('Enter your name: ')\n",
        "# This is another comment\n",
        "print(name) # this is a comment to the end of the line"
      ],
      "outputs": [],
      "metadata": {
        "id": "o544Qrr8Y_VN"
      }
    },
    {
      "cell_type": "markdown",
      "source": [
        "### **3. Інструкція *if***"
      ],
      "metadata": {
        "id": "2vM-TJgJCLcz"
      }
    },
    {
      "cell_type": "markdown",
      "source": [
        "Інструкція (оператор) *if* використовується для контролю потоку виконання програми на основі певної умови. \n",
        "\n",
        "Однак перед тим як досліджувати інструкцію *if*, потрібно розібратись в тому, що таке *оператори порівняння*."
      ],
      "metadata": {
        "id": "6_qV4L7oHYby"
      }
    },
    {
      "cell_type": "markdown",
      "source": [
        "**Оператори порівняння (comparison operators)** - це оператори, що порівнюють два значення та повертають значення двійкового (Boolean) типу. *Оператор порівняння* виконує певну форму перевірки та повертає True або False."
      ],
      "metadata": {
        "id": "hnwsrMnmKPk1"
      }
    },
    {
      "cell_type": "markdown",
      "source": [
        "*Оператори порівняння*:\n",
        "\n",
        "Operator | Description | Example\n",
        "--- | --- | ---\n",
        "== | Tests if two values are equal | 3 == 3\n",
        "!= | Tests that two values are not equal to each other | 2 != 3\n",
        "< | Tests to see if the left-hand value is less than the right-hand value | 2 < 3\n",
        "\\> | Tests if the left-hand value is greater than the right-hand value | 3 > 2\n",
        "<= | Tests if the left-hand value is less than or equal to the right-hand value | 3 <= 4\n",
        "\\>= | Tests if the left-hand value is greater than or equal to the right-hand value | 5 >= 4"
      ],
      "metadata": {
        "id": "upVOL8azL0Lq"
      }
    },
    {
      "cell_type": "markdown",
      "source": [
        "**Логічні оператори (logical operators)** - це оператори, що використовуються для об'єднання двох чи більше виразів двійкового типу.\n",
        "\n",
        "У Python є всього 3 *логічні оператори*:\n",
        "\n",
        "Operator | Description | Example\n",
        "--- | --- | ---\n",
        "and | Returns True if both left and right are true | (3 < 4) and (5 > 4)\n",
        "or | Returns two if either the left or the right is truce | (3 < 4) or (3 > 5)\n",
        "not | Returns true if the value being tested is False | not 3 < 2"
      ],
      "metadata": {
        "id": "e8RpL9C9Mqu0"
      }
    },
    {
      "cell_type": "markdown",
      "source": [
        "У своїй перинній формі інструкція if має вигляд:\n",
        "\n",
        "```\n",
        "if <умова-двійкового-типу>:\n",
        "    інструкція\n",
        "```\n",
        "\n",
        "Якщо *умова* виконується, тобто якщо вона набуває двійкового значення True, інтерпретатор переходить до виконання *інструкції*."
      ],
      "metadata": {
        "id": "Y-mn2pxVaHup"
      }
    },
    {
      "cell_type": "markdown",
      "source": [
        "Приклад:"
      ],
      "metadata": {
        "id": "_0XQ3XwKcVc3"
      }
    },
    {
      "cell_type": "code",
      "execution_count": 12,
      "source": [
        "num = int(input('Enter a number: '))\n",
        "if num < 0:\n",
        "    print(num, 'is negative')"
      ],
      "outputs": [
        {
          "output_type": "stream",
          "name": "stdout",
          "text": [
            "Enter a number: -10\n",
            "-10 is negative\n"
          ]
        }
      ],
      "metadata": {
        "id": "6aAVUTazcYW5",
        "outputId": "8bcd697c-c0ab-473c-a560-d88559c9160a",
        "colab": {
          "base_uri": "https://localhost:8080/",
          "height": 51
        }
      }
    },
    {
      "cell_type": "markdown",
      "source": [
        "Ще один приклад:"
      ],
      "metadata": {
        "id": "W0ycJQBmcqT-"
      }
    },
    {
      "cell_type": "code",
      "execution_count": 15,
      "source": [
        "num = int(input('Enter a number: '))\n",
        "if num > 0:\n",
        "    print(num, 'is positive')\n",
        "    print(num, 'squared is', num * num)\n",
        "print('Bye')"
      ],
      "outputs": [
        {
          "output_type": "stream",
          "name": "stdout",
          "text": [
            "Enter a number: -3\n",
            "Bye\n"
          ]
        }
      ],
      "metadata": {
        "id": "kp_AIihuOLBw",
        "outputId": "3d953125-3bd5-4e6d-dbc7-e4e2f89709d4",
        "colab": {
          "base_uri": "https://localhost:8080/",
          "height": 51
        }
      }
    },
    {
      "cell_type": "markdown",
      "source": [
        "Також можна визначити другу (необов'язкову) частину **else** оператора **if**."
      ],
      "metadata": {
        "id": "bSNrBqY4O8se"
      }
    },
    {
      "cell_type": "code",
      "execution_count": 16,
      "source": [
        "num = int(input('Enter yet another number: '))\n",
        "if num < 0:\n",
        "    print('Its negative')\n",
        "else:\n",
        "    print('Its not negative')"
      ],
      "outputs": [
        {
          "output_type": "stream",
          "name": "stdout",
          "text": [
            "Enter yet another number: -3\n",
            "Its negative\n"
          ]
        }
      ],
      "metadata": {
        "id": "rTuejO32O77_",
        "outputId": "c3bece1c-a66f-4c73-a239-52725f20cfd5",
        "colab": {
          "base_uri": "https://localhost:8080/",
          "height": 51
        }
      }
    },
    {
      "cell_type": "markdown",
      "source": [
        "Бувають випадки, коли потрібно перевірити кілька умов, і кожна наступна умова перевіряється лише у тому випадку, якщо усі попередні не виконались. Такий сценарій підтримується у Python і реалізується за допомогою елемента **elif** (\"else-if\") оператора if.\n",
        "\n",
        "Наприклад:"
      ],
      "metadata": {
        "id": "1WgFjhElP8ht"
      }
    },
    {
      "cell_type": "code",
      "execution_count": 17,
      "source": [
        "savings = float(input(\"Enter how much you have in savings: \"))\n",
        "if savings == 0:\n",
        "    print(\"Sorry no savings\")\n",
        "elif savings < 500:\n",
        "    print('Well done')\n",
        "elif savings < 1000:\n",
        "    print('Thats a tidy sum')\n",
        "elif savings < 10000:\n",
        "    print('Welcome Sir!')\n",
        "else:\n",
        "    print('Thank you')"
      ],
      "outputs": [
        {
          "output_type": "stream",
          "name": "stdout",
          "text": [
            "Enter how much you have in savings: 10000\n",
            "Thank you\n"
          ]
        }
      ],
      "metadata": {
        "id": "rjFI1yTaPu-2",
        "outputId": "da3d9b30-e07d-4990-885b-b7a694196e0e",
        "colab": {
          "base_uri": "https://localhost:8080/",
          "height": 51
        }
      }
    },
    {
      "cell_type": "markdown",
      "source": [
        "**Вкладений** оператор if - це оператор if, який знаходиться всередині іншого оператора if. Він може використовуватися для уточнення умов першого оператора.\n",
        "\n",
        "Наприклад:"
      ],
      "metadata": {
        "id": "LHQuqN2wS0f8"
      }
    },
    {
      "cell_type": "code",
      "execution_count": 19,
      "source": [
        "snowing = True\n",
        "temp = 1\n",
        "if temp < 0:\n",
        "    print('It is freezing')\n",
        "    if snowing:\n",
        "        print('Put on boots')\n",
        "    print('Time for Hot Chocolate')\n",
        "print('Bye')"
      ],
      "outputs": [
        {
          "output_type": "stream",
          "name": "stdout",
          "text": [
            "Bye\n"
          ]
        }
      ],
      "metadata": {
        "id": "9xoljaf9S0rI",
        "outputId": "fd1c505f-5460-4978-e43c-756e75f7d968",
        "colab": {
          "base_uri": "https://localhost:8080/",
          "height": 34
        }
      }
    },
    {
      "cell_type": "markdown",
      "source": [
        "**If** може бути як **інструкцією**, так і **виразом**. Досі ми розглядали if лише як інструкцію.\n",
        "\n",
        "У програмуванні різниця між виразом (expression) та інструкцією (statement) лише в тому, що вираз повертає значення, а інструкція не повертає.\n",
        "\n",
        "У наступних двох прикладах подані два варіанти коду, що виконують однакові функції."
      ],
      "metadata": {
        "id": "N_zJ_tY0V2M5"
      }
    },
    {
      "cell_type": "markdown",
      "source": [
        "Приклад 1. В цьому випадку if - інструкція."
      ],
      "metadata": {
        "id": "RHUEKtCecpFy"
      }
    },
    {
      "cell_type": "code",
      "execution_count": null,
      "source": [
        "age = 15\n",
        "status = None\n",
        "if (age > 12) and (age < 20):\n",
        "    status = 'teenager'\n",
        "else:\n",
        "    status = 'not teenager'\n",
        "print(status)"
      ],
      "outputs": [],
      "metadata": {
        "id": "1Dl7dQuSY0pD"
      }
    },
    {
      "cell_type": "markdown",
      "source": [
        "Приклад 2. В цьому випадку if - вираз."
      ],
      "metadata": {
        "id": "4_3VrFFfc8K-"
      }
    },
    {
      "cell_type": "code",
      "execution_count": 26,
      "source": [
        "age = 12\n",
        "status = ('teenager' if (age > 12) and (age < 20) else 'not teenager')\n",
        "print(status)"
      ],
      "outputs": [
        {
          "output_type": "stream",
          "name": "stdout",
          "text": [
            "not teenager\n"
          ]
        }
      ],
      "metadata": {
        "id": "AGEN9RCxc5SM",
        "outputId": "4efd13a6-4d5b-4844-9ad5-4a311a68e982",
        "colab": {
          "base_uri": "https://localhost:8080/",
          "height": 34
        }
      }
    },
    {
      "cell_type": "code",
      "execution_count": null,
      "source": [],
      "outputs": [],
      "metadata": {
        "id": "ipuKlPhLeA8I"
      }
    }
  ]
}